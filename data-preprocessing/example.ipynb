{
  "nbformat": 4,
  "nbformat_minor": 0,
  "metadata": {
    "colab": {
      "name": "live_coding.ipynb",
      "provenance": [],
      "collapsed_sections": []
    },
    "kernelspec": {
      "name": "python3",
      "display_name": "Python 3"
    }
  },
  "cells": [
    {
      "cell_type": "markdown",
      "metadata": {
        "id": "hU2p22azNk6m",
        "colab_type": "text"
      },
      "source": [
        "# Python pre data processing"
      ]
    },
    {
      "cell_type": "code",
      "metadata": {
        "id": "1rVqokUBNXzb",
        "colab_type": "code",
        "colab": {}
      },
      "source": [
        "import pandas as pd"
      ],
      "execution_count": 6,
      "outputs": []
    },
    {
      "cell_type": "markdown",
      "metadata": {
        "id": "Zr5UL1yBOC0W",
        "colab_type": "text"
      },
      "source": [
        "Let's make a simple planets diameter tuple (also works with lists)."
      ]
    },
    {
      "cell_type": "code",
      "metadata": {
        "id": "O96PYRUESflf",
        "colab_type": "code",
        "colab": {}
      },
      "source": [
        "diameter_list = (4879, 12104, 12756, 6792, 142984, 120536, 51118, 49528, 2370)\n",
        "\n",
        "# Also works with lists\n",
        "# diameter_list = [4879, 12104, 12756, 6792, 142984, 120536, 51118, 49528, 2370] \n",
        "\n",
        "diameter_series = pd.Series(diameter_list)"
      ],
      "execution_count": 7,
      "outputs": []
    },
    {
      "cell_type": "markdown",
      "metadata": {
        "id": "DYpWS7Y4OUql",
        "colab_type": "text"
      },
      "source": [
        "Pandas series have much more methods than python lists."
      ]
    },
    {
      "cell_type": "code",
      "metadata": {
        "id": "BTwlBYCsS8K8",
        "colab_type": "code",
        "colab": {
          "base_uri": "https://localhost:8080/",
          "height": 203
        },
        "outputId": "3746ac3c-b38f-4d62-ddba-abcbf279f71b"
      },
      "source": [
        "diameter_series"
      ],
      "execution_count": 8,
      "outputs": [
        {
          "output_type": "execute_result",
          "data": {
            "text/plain": [
              "0      4879\n",
              "1     12104\n",
              "2     12756\n",
              "3      6792\n",
              "4    142984\n",
              "5    120536\n",
              "6     51118\n",
              "7     49528\n",
              "8      2370\n",
              "dtype: int64"
            ]
          },
          "metadata": {
            "tags": []
          },
          "execution_count": 8
        }
      ]
    },
    {
      "cell_type": "code",
      "metadata": {
        "id": "DcFfVT-YTByB",
        "colab_type": "code",
        "colab": {
          "base_uri": "https://localhost:8080/",
          "height": 36
        },
        "outputId": "aca28bd4-224a-4637-c590-8764f571bddc"
      },
      "source": [
        "diameter_series[3]"
      ],
      "execution_count": 9,
      "outputs": [
        {
          "output_type": "execute_result",
          "data": {
            "text/plain": [
              "6792"
            ]
          },
          "metadata": {
            "tags": []
          },
          "execution_count": 9
        }
      ]
    },
    {
      "cell_type": "code",
      "metadata": {
        "id": "YBhqBY3uTWpU",
        "colab_type": "code",
        "colab": {}
      },
      "source": [
        "planet_names = ('Mercury', 'Venus', 'Earth', 'Mars', 'Jupiter', 'Saturn', 'Uranus', 'Neptune', 'Pluto')\n",
        "\n",
        "# planet_names = ('Mercury', 'Venus', 'Earth', 'Mars', 'Jupiter', 'Saturn', 'Uranus')\n",
        "# ValueError: Length mismatch: Expected axis has 9 elements, new values have 7 elements\n",
        "\n",
        "diameter_series.index = planet_names"
      ],
      "execution_count": 10,
      "outputs": []
    },
    {
      "cell_type": "markdown",
      "metadata": {
        "id": "1NrSLy9PSuHn",
        "colab_type": "text"
      },
      "source": [
        "With `index` we replace the index with `planet_names`. Make sure you have the same length."
      ]
    },
    {
      "cell_type": "code",
      "metadata": {
        "id": "_14jmz26Tdg6",
        "colab_type": "code",
        "colab": {
          "base_uri": "https://localhost:8080/",
          "height": 203
        },
        "outputId": "8bb1017d-aba9-4261-b505-584179384830"
      },
      "source": [
        "diameter_series"
      ],
      "execution_count": 11,
      "outputs": [
        {
          "output_type": "execute_result",
          "data": {
            "text/plain": [
              "Mercury      4879\n",
              "Venus       12104\n",
              "Earth       12756\n",
              "Mars         6792\n",
              "Jupiter    142984\n",
              "Saturn     120536\n",
              "Uranus      51118\n",
              "Neptune     49528\n",
              "Pluto        2370\n",
              "dtype: int64"
            ]
          },
          "metadata": {
            "tags": []
          },
          "execution_count": 11
        }
      ]
    },
    {
      "cell_type": "markdown",
      "metadata": {
        "id": "GZBjVAOBT9k_",
        "colab_type": "text"
      },
      "source": [
        "We can get a slice of data too:"
      ]
    },
    {
      "cell_type": "code",
      "metadata": {
        "id": "BFX3ULYfToo2",
        "colab_type": "code",
        "colab": {
          "base_uri": "https://localhost:8080/",
          "height": 129
        },
        "outputId": "554b2529-03c5-4a59-979d-2b48bd6fa974"
      },
      "source": [
        "diameter_series[0:5]"
      ],
      "execution_count": 12,
      "outputs": [
        {
          "output_type": "execute_result",
          "data": {
            "text/plain": [
              "Mercury      4879\n",
              "Venus       12104\n",
              "Earth       12756\n",
              "Mars         6792\n",
              "Jupiter    142984\n",
              "dtype: int64"
            ]
          },
          "metadata": {
            "tags": []
          },
          "execution_count": 12
        }
      ]
    },
    {
      "cell_type": "markdown",
      "metadata": {
        "id": "tI_bfmXh-ATy",
        "colab_type": "text"
      },
      "source": [
        "## Main functions\n",
        "\n",
        "We will see the following functions:\n",
        "- `head`\n",
        "- `tail`\n",
        "- `count`\n",
        "- `mean`\n",
        "- `median`\n",
        "- `describe`\n",
        "- `sum`\n",
        "- `sort_values`"
      ]
    },
    {
      "cell_type": "code",
      "metadata": {
        "id": "SYLXdfjnUEb5",
        "colab_type": "code",
        "colab": {
          "base_uri": "https://localhost:8080/",
          "height": 129
        },
        "outputId": "469d126a-6f8c-4452-acf7-555b6f87913d"
      },
      "source": [
        "diameter_series.head() # prints the first 5 elements of the serie"
      ],
      "execution_count": 13,
      "outputs": [
        {
          "output_type": "execute_result",
          "data": {
            "text/plain": [
              "Mercury      4879\n",
              "Venus       12104\n",
              "Earth       12756\n",
              "Mars         6792\n",
              "Jupiter    142984\n",
              "dtype: int64"
            ]
          },
          "metadata": {
            "tags": []
          },
          "execution_count": 13
        }
      ]
    },
    {
      "cell_type": "code",
      "metadata": {
        "id": "G6CR9kLBULUM",
        "colab_type": "code",
        "colab": {
          "base_uri": "https://localhost:8080/",
          "height": 91
        },
        "outputId": "8d74faab-ea8e-432c-c00d-96ff88881aa3"
      },
      "source": [
        "diameter_series.tail() # print the last 5 elements of the series\n",
        "diameter_series.tail(n=3) # we modify the quantity of elements to be printed "
      ],
      "execution_count": 14,
      "outputs": [
        {
          "output_type": "execute_result",
          "data": {
            "text/plain": [
              "Uranus     51118\n",
              "Neptune    49528\n",
              "Pluto       2370\n",
              "dtype: int64"
            ]
          },
          "metadata": {
            "tags": []
          },
          "execution_count": 14
        }
      ]
    },
    {
      "cell_type": "code",
      "metadata": {
        "id": "HVFuFAQ_USF6",
        "colab_type": "code",
        "colab": {
          "base_uri": "https://localhost:8080/",
          "height": 185
        },
        "outputId": "38647bdc-3dda-4876-c4b4-93f8f33246a2"
      },
      "source": [
        "diameter_series.describe() #this method provides a statistical description"
      ],
      "execution_count": 15,
      "outputs": [
        {
          "output_type": "execute_result",
          "data": {
            "text/plain": [
              "count         9.000000\n",
              "mean      44785.222222\n",
              "std       52882.835414\n",
              "min        2370.000000\n",
              "25%        6792.000000\n",
              "50%       12756.000000\n",
              "75%       51118.000000\n",
              "max      142984.000000\n",
              "dtype: float64"
            ]
          },
          "metadata": {
            "tags": []
          },
          "execution_count": 15
        }
      ]
    },
    {
      "cell_type": "code",
      "metadata": {
        "id": "HC6Zl0K9V3hk",
        "colab_type": "code",
        "colab": {
          "base_uri": "https://localhost:8080/",
          "height": 203
        },
        "outputId": "2321780e-25dd-4a40-db2e-b42f1de1b012"
      },
      "source": [
        "diameter_series.sort_values()"
      ],
      "execution_count": 16,
      "outputs": [
        {
          "output_type": "execute_result",
          "data": {
            "text/plain": [
              "Pluto        2370\n",
              "Mercury      4879\n",
              "Mars         6792\n",
              "Venus       12104\n",
              "Earth       12756\n",
              "Neptune     49528\n",
              "Uranus      51118\n",
              "Saturn     120536\n",
              "Jupiter    142984\n",
              "dtype: int64"
            ]
          },
          "metadata": {
            "tags": []
          },
          "execution_count": 16
        }
      ]
    },
    {
      "cell_type": "code",
      "metadata": {
        "id": "jOIBaj9DUdgL",
        "colab_type": "code",
        "colab": {
          "base_uri": "https://localhost:8080/",
          "height": 203
        },
        "outputId": "2f3ef67c-ac84-4202-b5e6-8478b7c872d3"
      },
      "source": [
        "diameter_series * 1000"
      ],
      "execution_count": 17,
      "outputs": [
        {
          "output_type": "execute_result",
          "data": {
            "text/plain": [
              "Mercury      4879000\n",
              "Venus       12104000\n",
              "Earth       12756000\n",
              "Mars         6792000\n",
              "Jupiter    142984000\n",
              "Saturn     120536000\n",
              "Uranus      51118000\n",
              "Neptune     49528000\n",
              "Pluto        2370000\n",
              "dtype: int64"
            ]
          },
          "metadata": {
            "tags": []
          },
          "execution_count": 17
        }
      ]
    },
    {
      "cell_type": "code",
      "metadata": {
        "id": "E4l2QBEZVUO6",
        "colab_type": "code",
        "colab": {
          "base_uri": "https://localhost:8080/",
          "height": 36
        },
        "outputId": "13ea0c1c-44b6-432d-e6d5-ddd874c17e50"
      },
      "source": [
        "diameter_series['Mercury'] # Same result\n",
        "diameter_series[0]"
      ],
      "execution_count": 18,
      "outputs": [
        {
          "output_type": "execute_result",
          "data": {
            "text/plain": [
              "4879"
            ]
          },
          "metadata": {
            "tags": []
          },
          "execution_count": 18
        }
      ]
    },
    {
      "cell_type": "code",
      "metadata": {
        "id": "UMajMg23V3zw",
        "colab_type": "code",
        "colab": {}
      },
      "source": [
        " import numpy as np # math stuff\n",
        " import math"
      ],
      "execution_count": 19,
      "outputs": []
    },
    {
      "cell_type": "code",
      "metadata": {
        "id": "F4Jvb5qHX_sB",
        "colab_type": "code",
        "colab": {}
      },
      "source": [
        "volume_series = (4 / 3) * np.pi * np.power(diameter_series / 2, 3) # volume of a sphere"
      ],
      "execution_count": 20,
      "outputs": []
    },
    {
      "cell_type": "code",
      "metadata": {
        "id": "45py6kM_Wr_v",
        "colab_type": "code",
        "colab": {
          "base_uri": "https://localhost:8080/",
          "height": 203
        },
        "outputId": "13b2b34e-9395-42dd-8bd5-fe02e92e3a23"
      },
      "source": [
        "volume_series"
      ],
      "execution_count": 21,
      "outputs": [
        {
          "output_type": "execute_result",
          "data": {
            "text/plain": [
              "Mercury    6.081225e+10\n",
              "Venus      9.285074e+11\n",
              "Earth      1.086781e+12\n",
              "Mars       1.640558e+11\n",
              "Jupiter    1.530597e+15\n",
              "Saturn     9.169570e+14\n",
              "Uranus     6.993912e+13\n",
              "Neptune    6.361375e+13\n",
              "Pluto      6.970175e+09\n",
              "dtype: float64"
            ]
          },
          "metadata": {
            "tags": []
          },
          "execution_count": 21
        }
      ]
    },
    {
      "cell_type": "code",
      "metadata": {
        "id": "gzJltlPUWw9a",
        "colab_type": "code",
        "colab": {
          "base_uri": "https://localhost:8080/",
          "height": 203
        },
        "outputId": "832eb936-8f8d-43ba-b090-22b68afad2ce"
      },
      "source": [
        "diameter_series < diameter_series.mean() # diameters less than average diameters"
      ],
      "execution_count": 22,
      "outputs": [
        {
          "output_type": "execute_result",
          "data": {
            "text/plain": [
              "Mercury     True\n",
              "Venus       True\n",
              "Earth       True\n",
              "Mars        True\n",
              "Jupiter    False\n",
              "Saturn     False\n",
              "Uranus     False\n",
              "Neptune    False\n",
              "Pluto       True\n",
              "dtype: bool"
            ]
          },
          "metadata": {
            "tags": []
          },
          "execution_count": 22
        }
      ]
    },
    {
      "cell_type": "code",
      "metadata": {
        "id": "0p2b7CivXXrg",
        "colab_type": "code",
        "colab": {
          "base_uri": "https://localhost:8080/",
          "height": 36
        },
        "outputId": "d26adae5-111c-4369-fe14-fb6882b9fedc"
      },
      "source": [
        "def is_prime(number):\n",
        "    \"\"\"\n",
        "    tells if 'number' is prime or not\n",
        "    \"\"\"\n",
        "    \n",
        "    # we take out even numbers\n",
        "    if number % 2 == 0 and number > 2: \n",
        "        return False\n",
        "    \n",
        "    # iteration\n",
        "    for n in range(3, math.ceil(number ** (1/2)), 2):\n",
        "        if number % n == 0:\n",
        "            return False\n",
        "    return True\n",
        "\n",
        "is_prime(7)"
      ],
      "execution_count": 23,
      "outputs": [
        {
          "output_type": "execute_result",
          "data": {
            "text/plain": [
              "True"
            ]
          },
          "metadata": {
            "tags": []
          },
          "execution_count": 23
        }
      ]
    },
    {
      "cell_type": "code",
      "metadata": {
        "id": "FW_FNgB_XoCZ",
        "colab_type": "code",
        "colab": {
          "base_uri": "https://localhost:8080/",
          "height": 203
        },
        "outputId": "6a6f7843-57e2-4110-f6ba-3810d1d8102d"
      },
      "source": [
        "# is_prime(diameter_series) # this doesn't work, because the function is for a number, not a serie.\n",
        "diameter_series.apply(is_prime) # apply fixs this"
      ],
      "execution_count": 24,
      "outputs": [
        {
          "output_type": "execute_result",
          "data": {
            "text/plain": [
              "Mercury    False\n",
              "Venus      False\n",
              "Earth      False\n",
              "Mars       False\n",
              "Jupiter    False\n",
              "Saturn     False\n",
              "Uranus     False\n",
              "Neptune    False\n",
              "Pluto      False\n",
              "dtype: bool"
            ]
          },
          "metadata": {
            "tags": []
          },
          "execution_count": 24
        }
      ]
    },
    {
      "cell_type": "code",
      "metadata": {
        "id": "sGrVOttuvJNI",
        "colab_type": "code",
        "colab": {
          "base_uri": "https://localhost:8080/",
          "height": 110
        },
        "outputId": "d63ef082-9bd9-4790-b437-2e7029df06c0"
      },
      "source": [
        "diameter_series[(diameter_series >= diameter_series.mean())] # returns the series that meets the condition"
      ],
      "execution_count": 25,
      "outputs": [
        {
          "output_type": "execute_result",
          "data": {
            "text/plain": [
              "Jupiter    142984\n",
              "Saturn     120536\n",
              "Uranus      51118\n",
              "Neptune     49528\n",
              "dtype: int64"
            ]
          },
          "metadata": {
            "tags": []
          },
          "execution_count": 25
        }
      ]
    },
    {
      "cell_type": "code",
      "metadata": {
        "id": "Uv5c7cPHYJYP",
        "colab_type": "code",
        "colab": {
          "base_uri": "https://localhost:8080/",
          "height": 129
        },
        "outputId": "fefbd360-58b2-4b40-d4bb-ba95906bb15a"
      },
      "source": [
        "diameter_series[~(diameter_series >= diameter_series.mean())] # returns the series that doesn't meets the condition"
      ],
      "execution_count": 26,
      "outputs": [
        {
          "output_type": "execute_result",
          "data": {
            "text/plain": [
              "Mercury     4879\n",
              "Venus      12104\n",
              "Earth      12756\n",
              "Mars        6792\n",
              "Pluto       2370\n",
              "dtype: int64"
            ]
          },
          "metadata": {
            "tags": []
          },
          "execution_count": 26
        }
      ]
    },
    {
      "cell_type": "markdown",
      "metadata": {
        "id": "GN-rdnNZyCuh",
        "colab_type": "text"
      },
      "source": [
        "You can navigate the console"
      ]
    },
    {
      "cell_type": "code",
      "metadata": {
        "id": "FlCiifPHZsQX",
        "colab_type": "code",
        "colab": {
          "base_uri": "https://localhost:8080/",
          "height": 36
        },
        "outputId": "0c432f35-3c78-427a-b695-993d916bc202"
      },
      "source": [
        "cd .."
      ],
      "execution_count": 27,
      "outputs": [
        {
          "output_type": "stream",
          "text": [
            "/content/drive/My Drive/2020-2/SEMESTRE 10/infoVis\n"
          ],
          "name": "stdout"
        }
      ]
    },
    {
      "cell_type": "code",
      "metadata": {
        "id": "l8RCnffzwlwy",
        "colab_type": "code",
        "colab": {
          "base_uri": "https://localhost:8080/",
          "height": 54
        },
        "outputId": "8bee1892-244b-4e45-82db-9b014620fad9"
      },
      "source": [
        "ls"
      ],
      "execution_count": 28,
      "outputs": [
        {
          "output_type": "stream",
          "text": [
            "\u001b[0m\u001b[01;34m'0 Bienvenida al curso'\u001b[0m/        \u001b[01;34m'2 Abstracción de datos'\u001b[0m/    \u001b[01;34mAY-01\u001b[0m/\n",
            "\u001b[01;34m'1 Análisis de visualización'\u001b[0m/  \u001b[01;34m'3 Abstracción de tareas'\u001b[0m/\n"
          ],
          "name": "stdout"
        }
      ]
    },
    {
      "cell_type": "markdown",
      "metadata": {
        "id": "TlYQoohdxxZa",
        "colab_type": "text"
      },
      "source": [
        "To import a database from our drive"
      ]
    },
    {
      "cell_type": "code",
      "metadata": {
        "id": "dUKCRbO1w8FO",
        "colab_type": "code",
        "colab": {
          "base_uri": "https://localhost:8080/",
          "height": 36
        },
        "outputId": "b4ecf64a-9e17-4e86-819d-a04bdbd9cea0"
      },
      "source": [
        "from google.colab import drive\n",
        "drive.mount('/content/drive')"
      ],
      "execution_count": 29,
      "outputs": [
        {
          "output_type": "stream",
          "text": [
            "Drive already mounted at /content/drive; to attempt to forcibly remount, call drive.mount(\"/content/drive\", force_remount=True).\n"
          ],
          "name": "stdout"
        }
      ]
    },
    {
      "cell_type": "code",
      "metadata": {
        "id": "wRfVOWEZZnef",
        "colab_type": "code",
        "colab": {
          "base_uri": "https://localhost:8080/",
          "height": 36
        },
        "outputId": "dede153d-c86c-4b72-e9b2-90a367cad7ee"
      },
      "source": [
        "%cd /content/drive/My Drive/2020-2/SEMESTRE 10/infoVis/AY-01"
      ],
      "execution_count": 30,
      "outputs": [
        {
          "output_type": "stream",
          "text": [
            "/content/drive/My Drive/2020-2/SEMESTRE 10/infoVis/AY-01\n"
          ],
          "name": "stdout"
        }
      ]
    },
    {
      "cell_type": "code",
      "metadata": {
        "id": "fDOdYuPPZ8YV",
        "colab_type": "code",
        "colab": {
          "base_uri": "https://localhost:8080/",
          "height": 36
        },
        "outputId": "36b396ff-f035-4c11-cb58-08a360a42e3d"
      },
      "source": [
        "pwd"
      ],
      "execution_count": 31,
      "outputs": [
        {
          "output_type": "execute_result",
          "data": {
            "application/vnd.google.colaboratory.intrinsic+json": {
              "type": "string"
            },
            "text/plain": [
              "'/content/drive/My Drive/2020-2/SEMESTRE 10/infoVis/AY-01'"
            ]
          },
          "metadata": {
            "tags": []
          },
          "execution_count": 31
        }
      ]
    },
    {
      "cell_type": "code",
      "metadata": {
        "id": "pwjx9c5zZ_Uj",
        "colab_type": "code",
        "colab": {
          "base_uri": "https://localhost:8080/",
          "height": 36
        },
        "outputId": "c3f03635-4665-41d6-87c9-6e13d8ee39cb"
      },
      "source": [
        "ls"
      ],
      "execution_count": 32,
      "outputs": [
        {
          "output_type": "stream",
          "text": [
            "\u001b[0m\u001b[01;34mdatasets\u001b[0m/  \u001b[01;34mdata-wrangling-master\u001b[0m/  live_coding.ipynb  readme.MD\n"
          ],
          "name": "stdout"
        }
      ]
    },
    {
      "cell_type": "code",
      "metadata": {
        "id": "akqdyRRPaqwX",
        "colab_type": "code",
        "colab": {
          "base_uri": "https://localhost:8080/",
          "height": 112
        },
        "outputId": "26795bb8-274e-4b40-a9d8-ef8668089bf4"
      },
      "source": [
        "pd.DataFrame({'A': [1, 3], 'B': [8, 4]}) # Take care with dimensions!"
      ],
      "execution_count": 33,
      "outputs": [
        {
          "output_type": "execute_result",
          "data": {
            "text/html": [
              "<div>\n",
              "<style scoped>\n",
              "    .dataframe tbody tr th:only-of-type {\n",
              "        vertical-align: middle;\n",
              "    }\n",
              "\n",
              "    .dataframe tbody tr th {\n",
              "        vertical-align: top;\n",
              "    }\n",
              "\n",
              "    .dataframe thead th {\n",
              "        text-align: right;\n",
              "    }\n",
              "</style>\n",
              "<table border=\"1\" class=\"dataframe\">\n",
              "  <thead>\n",
              "    <tr style=\"text-align: right;\">\n",
              "      <th></th>\n",
              "      <th>A</th>\n",
              "      <th>B</th>\n",
              "    </tr>\n",
              "  </thead>\n",
              "  <tbody>\n",
              "    <tr>\n",
              "      <th>0</th>\n",
              "      <td>1</td>\n",
              "      <td>8</td>\n",
              "    </tr>\n",
              "    <tr>\n",
              "      <th>1</th>\n",
              "      <td>3</td>\n",
              "      <td>4</td>\n",
              "    </tr>\n",
              "  </tbody>\n",
              "</table>\n",
              "</div>"
            ],
            "text/plain": [
              "   A  B\n",
              "0  1  8\n",
              "1  3  4"
            ]
          },
          "metadata": {
            "tags": []
          },
          "execution_count": 33
        }
      ]
    },
    {
      "cell_type": "code",
      "metadata": {
        "id": "XgUlFCtxaFD_",
        "colab_type": "code",
        "colab": {
          "base_uri": "https://localhost:8080/",
          "height": 600
        },
        "outputId": "9be8ae76-e591-49a6-cc35-9de36f408c0f"
      },
      "source": [
        "school_census = pd.read_csv('./datasets/school_census.csv', encoding='latin') # This is a DataFrame\n",
        "# school_census.index\n",
        "school_census"
      ],
      "execution_count": 63,
      "outputs": [
        {
          "output_type": "execute_result",
          "data": {
            "text/html": [
              "<div>\n",
              "<style scoped>\n",
              "    .dataframe tbody tr th:only-of-type {\n",
              "        vertical-align: middle;\n",
              "    }\n",
              "\n",
              "    .dataframe tbody tr th {\n",
              "        vertical-align: top;\n",
              "    }\n",
              "\n",
              "    .dataframe thead th {\n",
              "        text-align: right;\n",
              "    }\n",
              "</style>\n",
              "<table border=\"1\" class=\"dataframe\">\n",
              "  <thead>\n",
              "    <tr style=\"text-align: right;\">\n",
              "      <th></th>\n",
              "      <th>Country</th>\n",
              "      <th>Region</th>\n",
              "      <th>DataYear</th>\n",
              "      <th>ClassGrade</th>\n",
              "      <th>Gender</th>\n",
              "      <th>Ageyears</th>\n",
              "      <th>Handed</th>\n",
              "      <th>Height_cm</th>\n",
              "      <th>Footlength_cm</th>\n",
              "      <th>Armspan_cm</th>\n",
              "      <th>Languages_spoken</th>\n",
              "      <th>Travel_to_School</th>\n",
              "      <th>Travel_time_to_School</th>\n",
              "      <th>Reaction_time</th>\n",
              "      <th>Score_in_memory_game</th>\n",
              "      <th>Favourite_physical_activity</th>\n",
              "      <th>Importance_reducing_pollution</th>\n",
              "      <th>Importance_recycling_rubbish</th>\n",
              "      <th>Importance_conserving_water</th>\n",
              "      <th>Importance_saving_energy</th>\n",
              "      <th>Importance_owning_computer</th>\n",
              "      <th>Importance_Internet_access</th>\n",
              "      <th>Left_Footlength_cm</th>\n",
              "      <th>Longer_foot</th>\n",
              "      <th>Index_Fingerlength_mm</th>\n",
              "      <th>Ring_Fingerlength_mm</th>\n",
              "      <th>Longer_Finger_Lefthand</th>\n",
              "      <th>Birth_month</th>\n",
              "      <th>Favorite_Season</th>\n",
              "      <th>Allergies</th>\n",
              "      <th>Vegetarian</th>\n",
              "      <th>Favorite_Food</th>\n",
              "      <th>Beverage</th>\n",
              "      <th>Favorite_School_Subject</th>\n",
              "      <th>Sleep_Hours_Schoolnight</th>\n",
              "      <th>Sleep_Hours_Non_Schoolnight</th>\n",
              "      <th>Home_Occupants</th>\n",
              "      <th>Home_Internet_Access</th>\n",
              "      <th>Communication_With_Friends</th>\n",
              "      <th>Text_Messages_Sent_Yesterday</th>\n",
              "      <th>Text_Messages_Received_Yesterday</th>\n",
              "      <th>Hanging_Out_With_Friends_Hours</th>\n",
              "      <th>Talking_On_Phone_Hours</th>\n",
              "      <th>Doing_Homework_Hours</th>\n",
              "      <th>Doing_Things_With_Family_Hours</th>\n",
              "      <th>Outdoor_Activities_Hours</th>\n",
              "      <th>Video_Games_Hours</th>\n",
              "      <th>Social_Websites_Hours</th>\n",
              "      <th>Texting_Messaging_Hours</th>\n",
              "      <th>Computer_Use_Hours</th>\n",
              "      <th>Watching_TV_Hours</th>\n",
              "      <th>Paid_Work_Hours</th>\n",
              "      <th>Work_At_Home_Hours</th>\n",
              "      <th>Schoolwork_Pressure</th>\n",
              "      <th>Planned_Education_Level</th>\n",
              "      <th>Favorite_Music</th>\n",
              "      <th>Superpower</th>\n",
              "      <th>Preferred_Status</th>\n",
              "      <th>Role_Model_Type</th>\n",
              "      <th>Charity_Donation</th>\n",
              "    </tr>\n",
              "  </thead>\n",
              "  <tbody>\n",
              "    <tr>\n",
              "      <th>0</th>\n",
              "      <td>USA</td>\n",
              "      <td>CA</td>\n",
              "      <td>2019</td>\n",
              "      <td>12</td>\n",
              "      <td>Female</td>\n",
              "      <td>17</td>\n",
              "      <td>Right-Handed</td>\n",
              "      <td>165</td>\n",
              "      <td>21</td>\n",
              "      <td>157</td>\n",
              "      <td>1</td>\n",
              "      <td>Car</td>\n",
              "      <td>6</td>\n",
              "      <td>0.638</td>\n",
              "      <td>51</td>\n",
              "      <td>Swimming</td>\n",
              "      <td>95</td>\n",
              "      <td>80</td>\n",
              "      <td>75.0</td>\n",
              "      <td>75</td>\n",
              "      <td>70.0</td>\n",
              "      <td>90</td>\n",
              "      <td>21</td>\n",
              "      <td>Same length</td>\n",
              "      <td>75</td>\n",
              "      <td>70</td>\n",
              "      <td>Index finger</td>\n",
              "      <td>April</td>\n",
              "      <td>Summer</td>\n",
              "      <td>No</td>\n",
              "      <td>No</td>\n",
              "      <td>Poultry</td>\n",
              "      <td>Water</td>\n",
              "      <td>Mathematics and statistics</td>\n",
              "      <td>6</td>\n",
              "      <td>10</td>\n",
              "      <td>4</td>\n",
              "      <td>Yes - broadband connection</td>\n",
              "      <td>Text messaging</td>\n",
              "      <td>100</td>\n",
              "      <td>100</td>\n",
              "      <td>5</td>\n",
              "      <td>0</td>\n",
              "      <td>13</td>\n",
              "      <td>5</td>\n",
              "      <td>0</td>\n",
              "      <td>0</td>\n",
              "      <td>10</td>\n",
              "      <td>20</td>\n",
              "      <td>5</td>\n",
              "      <td>0</td>\n",
              "      <td>16</td>\n",
              "      <td>0</td>\n",
              "      <td>A lot</td>\n",
              "      <td>Graduate degree</td>\n",
              "      <td>Pop</td>\n",
              "      <td>Fly</td>\n",
              "      <td>Happy</td>\n",
              "      <td>Community leader or elder</td>\n",
              "      <td>Environment</td>\n",
              "    </tr>\n",
              "    <tr>\n",
              "      <th>1</th>\n",
              "      <td>USA</td>\n",
              "      <td>NJ</td>\n",
              "      <td>2019</td>\n",
              "      <td>11</td>\n",
              "      <td>Male</td>\n",
              "      <td>16</td>\n",
              "      <td>Right-Handed</td>\n",
              "      <td>182.9</td>\n",
              "      <td>11</td>\n",
              "      <td>185.4</td>\n",
              "      <td>1</td>\n",
              "      <td>Bus</td>\n",
              "      <td>25</td>\n",
              "      <td>1.2</td>\n",
              "      <td>2.27</td>\n",
              "      <td>Basketball</td>\n",
              "      <td>1000</td>\n",
              "      <td>1000</td>\n",
              "      <td>1000.0</td>\n",
              "      <td>1000</td>\n",
              "      <td>200.0</td>\n",
              "      <td>300</td>\n",
              "      <td>34</td>\n",
              "      <td>Same length</td>\n",
              "      <td>27</td>\n",
              "      <td>31</td>\n",
              "      <td>Ring finger</td>\n",
              "      <td>September</td>\n",
              "      <td>Summer</td>\n",
              "      <td>Yes</td>\n",
              "      <td>No</td>\n",
              "      <td>Meat</td>\n",
              "      <td>Milk</td>\n",
              "      <td>Physical education</td>\n",
              "      <td>8</td>\n",
              "      <td>8</td>\n",
              "      <td>3</td>\n",
              "      <td>Yes - other</td>\n",
              "      <td>Myspace, Facebook, other social networking sit...</td>\n",
              "      <td>500</td>\n",
              "      <td>500</td>\n",
              "      <td>0</td>\n",
              "      <td>1</td>\n",
              "      <td>0</td>\n",
              "      <td>5</td>\n",
              "      <td>8</td>\n",
              "      <td>4</td>\n",
              "      <td>6</td>\n",
              "      <td>3</td>\n",
              "      <td>0</td>\n",
              "      <td>3</td>\n",
              "      <td>0</td>\n",
              "      <td>2</td>\n",
              "      <td>Very little</td>\n",
              "      <td>Some college</td>\n",
              "      <td>Heavy metal</td>\n",
              "      <td>Fly</td>\n",
              "      <td>Happy</td>\n",
              "      <td>Sports person</td>\n",
              "      <td>Health</td>\n",
              "    </tr>\n",
              "    <tr>\n",
              "      <th>2</th>\n",
              "      <td>USA</td>\n",
              "      <td>OH</td>\n",
              "      <td>2019</td>\n",
              "      <td>7</td>\n",
              "      <td>Female</td>\n",
              "      <td>13</td>\n",
              "      <td>Right-Handed</td>\n",
              "      <td>160</td>\n",
              "      <td>21</td>\n",
              "      <td>165</td>\n",
              "      <td>1</td>\n",
              "      <td>Walk</td>\n",
              "      <td>15</td>\n",
              "      <td>0.725</td>\n",
              "      <td>50</td>\n",
              "      <td>Athletics</td>\n",
              "      <td>583</td>\n",
              "      <td>150</td>\n",
              "      <td>1000.0</td>\n",
              "      <td>583</td>\n",
              "      <td>96.0</td>\n",
              "      <td>332</td>\n",
              "      <td>23</td>\n",
              "      <td>Left foot</td>\n",
              "      <td>90</td>\n",
              "      <td>75</td>\n",
              "      <td>Index finger</td>\n",
              "      <td>January</td>\n",
              "      <td>Summer</td>\n",
              "      <td>No</td>\n",
              "      <td>No</td>\n",
              "      <td>Fruit</td>\n",
              "      <td>Soft drink (non-caffeinated)</td>\n",
              "      <td>Physical education</td>\n",
              "      <td>8</td>\n",
              "      <td>4</td>\n",
              "      <td>3</td>\n",
              "      <td>Yes - dial-up connection</td>\n",
              "      <td>In person</td>\n",
              "      <td>5</td>\n",
              "      <td>9</td>\n",
              "      <td>25</td>\n",
              "      <td>20</td>\n",
              "      <td>1</td>\n",
              "      <td>2</td>\n",
              "      <td>20</td>\n",
              "      <td>30</td>\n",
              "      <td>20</td>\n",
              "      <td>2</td>\n",
              "      <td>8</td>\n",
              "      <td>30</td>\n",
              "      <td>0</td>\n",
              "      <td>10</td>\n",
              "      <td>Some</td>\n",
              "      <td>Graduate degree</td>\n",
              "      <td>Other</td>\n",
              "      <td>Telepathy</td>\n",
              "      <td>Healthy</td>\n",
              "      <td>Actor</td>\n",
              "      <td>Health</td>\n",
              "    </tr>\n",
              "    <tr>\n",
              "      <th>3</th>\n",
              "      <td>USA</td>\n",
              "      <td>NY</td>\n",
              "      <td>2019</td>\n",
              "      <td>10</td>\n",
              "      <td>Female</td>\n",
              "      <td>16</td>\n",
              "      <td>Ambidextrous</td>\n",
              "      <td>65</td>\n",
              "      <td>21</td>\n",
              "      <td>156</td>\n",
              "      <td>1</td>\n",
              "      <td>Walk</td>\n",
              "      <td>15</td>\n",
              "      <td>.489</td>\n",
              "      <td>60</td>\n",
              "      <td>Gymnastics</td>\n",
              "      <td>200</td>\n",
              "      <td>400</td>\n",
              "      <td>100.0</td>\n",
              "      <td>100</td>\n",
              "      <td>500.0</td>\n",
              "      <td>1000</td>\n",
              "      <td>20.5</td>\n",
              "      <td>Right foot</td>\n",
              "      <td>6.5</td>\n",
              "      <td>6</td>\n",
              "      <td>Index finger</td>\n",
              "      <td>March</td>\n",
              "      <td>Spring</td>\n",
              "      <td>Yes</td>\n",
              "      <td>No</td>\n",
              "      <td>Pizza/Pasta</td>\n",
              "      <td>Juice</td>\n",
              "      <td>Science</td>\n",
              "      <td>6</td>\n",
              "      <td>8</td>\n",
              "      <td>4</td>\n",
              "      <td>NaN</td>\n",
              "      <td>Text messaging</td>\n",
              "      <td>150</td>\n",
              "      <td>100</td>\n",
              "      <td>34</td>\n",
              "      <td>2</td>\n",
              "      <td>14</td>\n",
              "      <td>1</td>\n",
              "      <td>3</td>\n",
              "      <td>9</td>\n",
              "      <td>10</td>\n",
              "      <td>10</td>\n",
              "      <td>10</td>\n",
              "      <td>5</td>\n",
              "      <td>3</td>\n",
              "      <td>1</td>\n",
              "      <td>Some</td>\n",
              "      <td>Graduate degree</td>\n",
              "      <td>Classical</td>\n",
              "      <td>Telepathy</td>\n",
              "      <td>Happy</td>\n",
              "      <td>Business person</td>\n",
              "      <td>Wildlife, animals</td>\n",
              "    </tr>\n",
              "    <tr>\n",
              "      <th>4</th>\n",
              "      <td>USA</td>\n",
              "      <td>IN</td>\n",
              "      <td>2019</td>\n",
              "      <td>12</td>\n",
              "      <td>Male</td>\n",
              "      <td>17</td>\n",
              "      <td>Right-Handed</td>\n",
              "      <td>172.7</td>\n",
              "      <td>24</td>\n",
              "      <td>174</td>\n",
              "      <td>2</td>\n",
              "      <td>Car</td>\n",
              "      <td>10</td>\n",
              "      <td>.497</td>\n",
              "      <td>48</td>\n",
              "      <td>Golf</td>\n",
              "      <td>750</td>\n",
              "      <td>800</td>\n",
              "      <td>100.0</td>\n",
              "      <td>900</td>\n",
              "      <td>1000.0</td>\n",
              "      <td>1000</td>\n",
              "      <td>24</td>\n",
              "      <td>Same length</td>\n",
              "      <td>62</td>\n",
              "      <td>64</td>\n",
              "      <td>Ring finger</td>\n",
              "      <td>January</td>\n",
              "      <td>Spring</td>\n",
              "      <td>Yes</td>\n",
              "      <td>No</td>\n",
              "      <td>Meat</td>\n",
              "      <td>Tea</td>\n",
              "      <td>Mathematics and statistics</td>\n",
              "      <td>7.5</td>\n",
              "      <td>9</td>\n",
              "      <td>4</td>\n",
              "      <td>Yes - broadband connection</td>\n",
              "      <td>In person</td>\n",
              "      <td>6</td>\n",
              "      <td>5</td>\n",
              "      <td>5</td>\n",
              "      <td>1</td>\n",
              "      <td>8</td>\n",
              "      <td>10</td>\n",
              "      <td>28</td>\n",
              "      <td>0</td>\n",
              "      <td>4</td>\n",
              "      <td>1</td>\n",
              "      <td>3</td>\n",
              "      <td>8</td>\n",
              "      <td>8</td>\n",
              "      <td>0</td>\n",
              "      <td>A lot</td>\n",
              "      <td>Graduate degree</td>\n",
              "      <td>Rap/Hip hop</td>\n",
              "      <td>Super strength</td>\n",
              "      <td>Rich</td>\n",
              "      <td>Sports person</td>\n",
              "      <td>Health</td>\n",
              "    </tr>\n",
              "    <tr>\n",
              "      <th>...</th>\n",
              "      <td>...</td>\n",
              "      <td>...</td>\n",
              "      <td>...</td>\n",
              "      <td>...</td>\n",
              "      <td>...</td>\n",
              "      <td>...</td>\n",
              "      <td>...</td>\n",
              "      <td>...</td>\n",
              "      <td>...</td>\n",
              "      <td>...</td>\n",
              "      <td>...</td>\n",
              "      <td>...</td>\n",
              "      <td>...</td>\n",
              "      <td>...</td>\n",
              "      <td>...</td>\n",
              "      <td>...</td>\n",
              "      <td>...</td>\n",
              "      <td>...</td>\n",
              "      <td>...</td>\n",
              "      <td>...</td>\n",
              "      <td>...</td>\n",
              "      <td>...</td>\n",
              "      <td>...</td>\n",
              "      <td>...</td>\n",
              "      <td>...</td>\n",
              "      <td>...</td>\n",
              "      <td>...</td>\n",
              "      <td>...</td>\n",
              "      <td>...</td>\n",
              "      <td>...</td>\n",
              "      <td>...</td>\n",
              "      <td>...</td>\n",
              "      <td>...</td>\n",
              "      <td>...</td>\n",
              "      <td>...</td>\n",
              "      <td>...</td>\n",
              "      <td>...</td>\n",
              "      <td>...</td>\n",
              "      <td>...</td>\n",
              "      <td>...</td>\n",
              "      <td>...</td>\n",
              "      <td>...</td>\n",
              "      <td>...</td>\n",
              "      <td>...</td>\n",
              "      <td>...</td>\n",
              "      <td>...</td>\n",
              "      <td>...</td>\n",
              "      <td>...</td>\n",
              "      <td>...</td>\n",
              "      <td>...</td>\n",
              "      <td>...</td>\n",
              "      <td>...</td>\n",
              "      <td>...</td>\n",
              "      <td>...</td>\n",
              "      <td>...</td>\n",
              "      <td>...</td>\n",
              "      <td>...</td>\n",
              "      <td>...</td>\n",
              "      <td>...</td>\n",
              "      <td>...</td>\n",
              "    </tr>\n",
              "    <tr>\n",
              "      <th>495</th>\n",
              "      <td>USA</td>\n",
              "      <td>TX</td>\n",
              "      <td>2019</td>\n",
              "      <td>12</td>\n",
              "      <td>Female</td>\n",
              "      <td>21</td>\n",
              "      <td>Right-Handed</td>\n",
              "      <td>55</td>\n",
              "      <td>7 1/2</td>\n",
              "      <td>10</td>\n",
              "      <td>1</td>\n",
              "      <td>Bus</td>\n",
              "      <td>20</td>\n",
              "      <td>.916</td>\n",
              "      <td>15</td>\n",
              "      <td>None</td>\n",
              "      <td>1000</td>\n",
              "      <td>1000</td>\n",
              "      <td>900.0</td>\n",
              "      <td>1000</td>\n",
              "      <td>1000.0</td>\n",
              "      <td>1000</td>\n",
              "      <td>7 1/2</td>\n",
              "      <td>Same length</td>\n",
              "      <td>10</td>\n",
              "      <td>8</td>\n",
              "      <td>Ring finger</td>\n",
              "      <td>July</td>\n",
              "      <td>Winter</td>\n",
              "      <td>Yes</td>\n",
              "      <td>No</td>\n",
              "      <td>Rice/Noodle dishes</td>\n",
              "      <td>Soft drink (non-caffeinated)</td>\n",
              "      <td>Science</td>\n",
              "      <td>6</td>\n",
              "      <td>6</td>\n",
              "      <td>1</td>\n",
              "      <td>Yes - other</td>\n",
              "      <td>E-mail</td>\n",
              "      <td>39</td>\n",
              "      <td>60</td>\n",
              "      <td>1</td>\n",
              "      <td>2</td>\n",
              "      <td>1</td>\n",
              "      <td>3</td>\n",
              "      <td>1</td>\n",
              "      <td>1</td>\n",
              "      <td>2</td>\n",
              "      <td>3</td>\n",
              "      <td>2</td>\n",
              "      <td>1</td>\n",
              "      <td>19</td>\n",
              "      <td>1</td>\n",
              "      <td>A lot</td>\n",
              "      <td>Graduate degree</td>\n",
              "      <td>Techno/Electronic</td>\n",
              "      <td>Freeze time</td>\n",
              "      <td>Healthy</td>\n",
              "      <td>Doctor or nurse</td>\n",
              "      <td>Wildlife, animals</td>\n",
              "    </tr>\n",
              "    <tr>\n",
              "      <th>496</th>\n",
              "      <td>USA</td>\n",
              "      <td>CT</td>\n",
              "      <td>2019</td>\n",
              "      <td>11</td>\n",
              "      <td>Female</td>\n",
              "      <td>15</td>\n",
              "      <td>Right-Handed</td>\n",
              "      <td>167</td>\n",
              "      <td>21</td>\n",
              "      <td>181</td>\n",
              "      <td>1</td>\n",
              "      <td>Car</td>\n",
              "      <td>16</td>\n",
              "      <td>0.975</td>\n",
              "      <td>30</td>\n",
              "      <td>Basketball</td>\n",
              "      <td>449</td>\n",
              "      <td>717</td>\n",
              "      <td>898.0</td>\n",
              "      <td>481</td>\n",
              "      <td>904.0</td>\n",
              "      <td>898</td>\n",
              "      <td>20</td>\n",
              "      <td>Right foot</td>\n",
              "      <td>70</td>\n",
              "      <td>80</td>\n",
              "      <td>Ring finger</td>\n",
              "      <td>December</td>\n",
              "      <td>Fall</td>\n",
              "      <td>Yes</td>\n",
              "      <td>No</td>\n",
              "      <td>Meat</td>\n",
              "      <td>Tea</td>\n",
              "      <td>Mathematics and statistics</td>\n",
              "      <td>6</td>\n",
              "      <td>9</td>\n",
              "      <td>3</td>\n",
              "      <td>Yes - other</td>\n",
              "      <td>Cell phone</td>\n",
              "      <td>200</td>\n",
              "      <td>300</td>\n",
              "      <td>52</td>\n",
              "      <td>50</td>\n",
              "      <td>0</td>\n",
              "      <td>5</td>\n",
              "      <td>0</td>\n",
              "      <td>8</td>\n",
              "      <td>24</td>\n",
              "      <td>30</td>\n",
              "      <td>30</td>\n",
              "      <td>50</td>\n",
              "      <td>0</td>\n",
              "      <td>0</td>\n",
              "      <td>A lot</td>\n",
              "      <td>Graduate degree</td>\n",
              "      <td>Rap/Hip hop</td>\n",
              "      <td>Telepathy</td>\n",
              "      <td>Happy</td>\n",
              "      <td>Other</td>\n",
              "      <td>Health</td>\n",
              "    </tr>\n",
              "    <tr>\n",
              "      <th>497</th>\n",
              "      <td>USA</td>\n",
              "      <td>IN</td>\n",
              "      <td>2019</td>\n",
              "      <td>10</td>\n",
              "      <td>Female</td>\n",
              "      <td>15</td>\n",
              "      <td>Right-Handed</td>\n",
              "      <td>156</td>\n",
              "      <td>25</td>\n",
              "      <td>157</td>\n",
              "      <td>1</td>\n",
              "      <td>Bus</td>\n",
              "      <td>30</td>\n",
              "      <td>0.746</td>\n",
              "      <td>43</td>\n",
              "      <td>Dancing</td>\n",
              "      <td>890</td>\n",
              "      <td>600</td>\n",
              "      <td>658.0</td>\n",
              "      <td>584</td>\n",
              "      <td>498.0</td>\n",
              "      <td>593</td>\n",
              "      <td>25</td>\n",
              "      <td>Same length</td>\n",
              "      <td>7</td>\n",
              "      <td>65</td>\n",
              "      <td>Index finger</td>\n",
              "      <td>November</td>\n",
              "      <td>Fall</td>\n",
              "      <td>No</td>\n",
              "      <td>No</td>\n",
              "      <td>Desserts</td>\n",
              "      <td>Water</td>\n",
              "      <td>Social studies</td>\n",
              "      <td>7</td>\n",
              "      <td>10</td>\n",
              "      <td>6</td>\n",
              "      <td>Yes - broadband connection</td>\n",
              "      <td>In person</td>\n",
              "      <td>35</td>\n",
              "      <td>40</td>\n",
              "      <td>4</td>\n",
              "      <td>3</td>\n",
              "      <td>12</td>\n",
              "      <td>3</td>\n",
              "      <td>5</td>\n",
              "      <td>0</td>\n",
              "      <td>4</td>\n",
              "      <td>1</td>\n",
              "      <td>4</td>\n",
              "      <td>4</td>\n",
              "      <td>7</td>\n",
              "      <td>1</td>\n",
              "      <td>A lot</td>\n",
              "      <td>Graduate degree</td>\n",
              "      <td>Pop</td>\n",
              "      <td>Invisibility</td>\n",
              "      <td>Happy</td>\n",
              "      <td>Actor</td>\n",
              "      <td>International aid</td>\n",
              "    </tr>\n",
              "    <tr>\n",
              "      <th>498</th>\n",
              "      <td>USA</td>\n",
              "      <td>NJ</td>\n",
              "      <td>2019</td>\n",
              "      <td>9</td>\n",
              "      <td>Male</td>\n",
              "      <td>15</td>\n",
              "      <td>Right-Handed</td>\n",
              "      <td>186</td>\n",
              "      <td>30</td>\n",
              "      <td>189</td>\n",
              "      <td>1</td>\n",
              "      <td>Car</td>\n",
              "      <td>15</td>\n",
              "      <td>0.411</td>\n",
              "      <td>37</td>\n",
              "      <td>Baseball/Softball</td>\n",
              "      <td>829</td>\n",
              "      <td>626</td>\n",
              "      <td>631.0</td>\n",
              "      <td>465</td>\n",
              "      <td>267.0</td>\n",
              "      <td>652</td>\n",
              "      <td>30</td>\n",
              "      <td>Same length</td>\n",
              "      <td>111</td>\n",
              "      <td>119</td>\n",
              "      <td>Index finger</td>\n",
              "      <td>May</td>\n",
              "      <td>Fall</td>\n",
              "      <td>Yes</td>\n",
              "      <td>No</td>\n",
              "      <td>Pizza/Pasta</td>\n",
              "      <td>Soft drink (non-caffeinated)</td>\n",
              "      <td>History</td>\n",
              "      <td>8</td>\n",
              "      <td>9</td>\n",
              "      <td>4</td>\n",
              "      <td>Yes - broadband connection</td>\n",
              "      <td>Internet chat or instant messaging</td>\n",
              "      <td>11</td>\n",
              "      <td>15</td>\n",
              "      <td>20</td>\n",
              "      <td>1</td>\n",
              "      <td>18</td>\n",
              "      <td>4</td>\n",
              "      <td>10</td>\n",
              "      <td>20</td>\n",
              "      <td>35</td>\n",
              "      <td>2</td>\n",
              "      <td>30</td>\n",
              "      <td>4</td>\n",
              "      <td>0</td>\n",
              "      <td>0.5</td>\n",
              "      <td>Some</td>\n",
              "      <td>Undergraduate degree</td>\n",
              "      <td>Pop</td>\n",
              "      <td>Invisibility</td>\n",
              "      <td>Rich</td>\n",
              "      <td>Relative</td>\n",
              "      <td>Environment</td>\n",
              "    </tr>\n",
              "    <tr>\n",
              "      <th>499</th>\n",
              "      <td>USA</td>\n",
              "      <td>WA</td>\n",
              "      <td>2019</td>\n",
              "      <td>11</td>\n",
              "      <td>Female</td>\n",
              "      <td>16</td>\n",
              "      <td>Right-Handed</td>\n",
              "      <td>157.4</td>\n",
              "      <td>6.5</td>\n",
              "      <td>162</td>\n",
              "      <td>1</td>\n",
              "      <td>Car</td>\n",
              "      <td>10</td>\n",
              "      <td>0.343</td>\n",
              "      <td>42</td>\n",
              "      <td>Athletics</td>\n",
              "      <td>300</td>\n",
              "      <td>1000</td>\n",
              "      <td>200.0</td>\n",
              "      <td>500</td>\n",
              "      <td>200.0</td>\n",
              "      <td>0</td>\n",
              "      <td>6.5</td>\n",
              "      <td>Same length</td>\n",
              "      <td>73</td>\n",
              "      <td>74</td>\n",
              "      <td>Ring finger</td>\n",
              "      <td>May</td>\n",
              "      <td>Winter</td>\n",
              "      <td>No</td>\n",
              "      <td>No</td>\n",
              "      <td>Salads</td>\n",
              "      <td>Water</td>\n",
              "      <td>English</td>\n",
              "      <td>5-7</td>\n",
              "      <td>10-12</td>\n",
              "      <td>5</td>\n",
              "      <td>Yes - broadband connection</td>\n",
              "      <td>In person</td>\n",
              "      <td>100</td>\n",
              "      <td>100</td>\n",
              "      <td>144</td>\n",
              "      <td>10</td>\n",
              "      <td>5</td>\n",
              "      <td>74</td>\n",
              "      <td>5</td>\n",
              "      <td>1</td>\n",
              "      <td>42</td>\n",
              "      <td>36</td>\n",
              "      <td>24</td>\n",
              "      <td>17</td>\n",
              "      <td>0</td>\n",
              "      <td>6</td>\n",
              "      <td>Some</td>\n",
              "      <td>Graduate degree</td>\n",
              "      <td>Other</td>\n",
              "      <td>Invisibility</td>\n",
              "      <td>Healthy</td>\n",
              "      <td>Relative</td>\n",
              "      <td>Environment</td>\n",
              "    </tr>\n",
              "  </tbody>\n",
              "</table>\n",
              "<p>500 rows × 60 columns</p>\n",
              "</div>"
            ],
            "text/plain": [
              "    Country Region  ...            Role_Model_Type   Charity_Donation\n",
              "0       USA     CA  ...  Community leader or elder        Environment\n",
              "1       USA     NJ  ...              Sports person             Health\n",
              "2       USA     OH  ...                      Actor             Health\n",
              "3       USA     NY  ...            Business person  Wildlife, animals\n",
              "4       USA     IN  ...              Sports person             Health\n",
              "..      ...    ...  ...                        ...                ...\n",
              "495     USA     TX  ...            Doctor or nurse  Wildlife, animals\n",
              "496     USA     CT  ...                      Other             Health\n",
              "497     USA     IN  ...                      Actor  International aid\n",
              "498     USA     NJ  ...                   Relative        Environment\n",
              "499     USA     WA  ...                   Relative        Environment\n",
              "\n",
              "[500 rows x 60 columns]"
            ]
          },
          "metadata": {
            "tags": []
          },
          "execution_count": 63
        }
      ]
    },
    {
      "cell_type": "markdown",
      "metadata": {
        "id": "vZ8G27rVzWR_",
        "colab_type": "text"
      },
      "source": [
        "There is no name in the description, let's put some fake names to make out DataFrame cooler."
      ]
    },
    {
      "cell_type": "code",
      "metadata": {
        "id": "TbWDaI1UbHqe",
        "colab_type": "code",
        "colab": {
          "base_uri": "https://localhost:8080/",
          "height": 91
        },
        "outputId": "caf8fa3f-5cba-4f25-9883-d4856c1bd620"
      },
      "source": [
        "!pip install eos-name-generator"
      ],
      "execution_count": 35,
      "outputs": [
        {
          "output_type": "stream",
          "text": [
            "Requirement already satisfied: eos-name-generator in /usr/local/lib/python3.6/dist-packages (0.2.0)\n",
            "Requirement already satisfied: click==7.0 in /usr/local/lib/python3.6/dist-packages (from eos-name-generator) (7.0)\n",
            "Requirement already satisfied: numpy==1.18.4 in /usr/local/lib/python3.6/dist-packages (from eos-name-generator) (1.18.4)\n",
            "Requirement already satisfied: marshmallow==2.19.2 in /usr/local/lib/python3.6/dist-packages (from eos-name-generator) (2.19.2)\n"
          ],
          "name": "stdout"
        }
      ]
    },
    {
      "cell_type": "code",
      "metadata": {
        "id": "Eu0MzP5_bNjr",
        "colab_type": "code",
        "colab": {
          "base_uri": "https://localhost:8080/",
          "height": 36
        },
        "outputId": "ea2dfe64-64e6-47d1-db14-25f29e66b8fc"
      },
      "source": [
        "from eos_name_generator import RandomNameGenerator\n",
        "generator = RandomNameGenerator()\n",
        "names = generator.generate_list(num=len(school_census))\n",
        "len(set(names)) # Out DataFrame contains 500 rows"
      ],
      "execution_count": 64,
      "outputs": [
        {
          "output_type": "execute_result",
          "data": {
            "text/plain": [
              "500"
            ]
          },
          "metadata": {
            "tags": []
          },
          "execution_count": 64
        }
      ]
    },
    {
      "cell_type": "code",
      "metadata": {
        "id": "Fcu4I1VQb5iu",
        "colab_type": "code",
        "colab": {}
      },
      "source": [
        "school_census.index = names # We replace our indexs for random names"
      ],
      "execution_count": 65,
      "outputs": []
    },
    {
      "cell_type": "code",
      "metadata": {
        "id": "Eygz-rnGcRTB",
        "colab_type": "code",
        "colab": {
          "base_uri": "https://localhost:8080/",
          "height": 166
        },
        "outputId": "5501e7b2-c2d8-4d99-ad39-1abdf1e95977"
      },
      "source": [
        "school_census.index"
      ],
      "execution_count": 66,
      "outputs": [
        {
          "output_type": "execute_result",
          "data": {
            "text/plain": [
              "Index(['powderballot', 'cacklewinter', 'holddownbits', 'swapsconcert',\n",
              "       'hatredlaptop', 'offencebonds', 'lapsesbaggie', 'straitwrecks',\n",
              "       'acronymfaces', 'spiritmodule',\n",
              "       ...\n",
              "       'laser3423214', 'faithattempt', 'blinkerelite', 'seesawswoods',\n",
              "       'hardcopypike', 'cheerclosing', 'hangernylons', 'assertionfry',\n",
              "       'babushkahaul', 'domedulcimer'],\n",
              "      dtype='object', length=500)"
            ]
          },
          "metadata": {
            "tags": []
          },
          "execution_count": 66
        }
      ]
    },
    {
      "cell_type": "code",
      "metadata": {
        "id": "slzJapu0caoo",
        "colab_type": "code",
        "colab": {
          "base_uri": "https://localhost:8080/",
          "height": 424
        },
        "outputId": "9d5551e9-986e-4f3c-f68c-a2541199eb41"
      },
      "source": [
        "school_census.loc[:, ['Gender']] #.loc select rows"
      ],
      "execution_count": 67,
      "outputs": [
        {
          "output_type": "execute_result",
          "data": {
            "text/html": [
              "<div>\n",
              "<style scoped>\n",
              "    .dataframe tbody tr th:only-of-type {\n",
              "        vertical-align: middle;\n",
              "    }\n",
              "\n",
              "    .dataframe tbody tr th {\n",
              "        vertical-align: top;\n",
              "    }\n",
              "\n",
              "    .dataframe thead th {\n",
              "        text-align: right;\n",
              "    }\n",
              "</style>\n",
              "<table border=\"1\" class=\"dataframe\">\n",
              "  <thead>\n",
              "    <tr style=\"text-align: right;\">\n",
              "      <th></th>\n",
              "      <th>Gender</th>\n",
              "    </tr>\n",
              "  </thead>\n",
              "  <tbody>\n",
              "    <tr>\n",
              "      <th>powderballot</th>\n",
              "      <td>Female</td>\n",
              "    </tr>\n",
              "    <tr>\n",
              "      <th>cacklewinter</th>\n",
              "      <td>Male</td>\n",
              "    </tr>\n",
              "    <tr>\n",
              "      <th>holddownbits</th>\n",
              "      <td>Female</td>\n",
              "    </tr>\n",
              "    <tr>\n",
              "      <th>swapsconcert</th>\n",
              "      <td>Female</td>\n",
              "    </tr>\n",
              "    <tr>\n",
              "      <th>hatredlaptop</th>\n",
              "      <td>Male</td>\n",
              "    </tr>\n",
              "    <tr>\n",
              "      <th>...</th>\n",
              "      <td>...</td>\n",
              "    </tr>\n",
              "    <tr>\n",
              "      <th>cheerclosing</th>\n",
              "      <td>Female</td>\n",
              "    </tr>\n",
              "    <tr>\n",
              "      <th>hangernylons</th>\n",
              "      <td>Female</td>\n",
              "    </tr>\n",
              "    <tr>\n",
              "      <th>assertionfry</th>\n",
              "      <td>Female</td>\n",
              "    </tr>\n",
              "    <tr>\n",
              "      <th>babushkahaul</th>\n",
              "      <td>Male</td>\n",
              "    </tr>\n",
              "    <tr>\n",
              "      <th>domedulcimer</th>\n",
              "      <td>Female</td>\n",
              "    </tr>\n",
              "  </tbody>\n",
              "</table>\n",
              "<p>500 rows × 1 columns</p>\n",
              "</div>"
            ],
            "text/plain": [
              "              Gender\n",
              "powderballot  Female\n",
              "cacklewinter    Male\n",
              "holddownbits  Female\n",
              "swapsconcert  Female\n",
              "hatredlaptop    Male\n",
              "...              ...\n",
              "cheerclosing  Female\n",
              "hangernylons  Female\n",
              "assertionfry  Female\n",
              "babushkahaul    Male\n",
              "domedulcimer  Female\n",
              "\n",
              "[500 rows x 1 columns]"
            ]
          },
          "metadata": {
            "tags": []
          },
          "execution_count": 67
        }
      ]
    },
    {
      "cell_type": "code",
      "metadata": {
        "id": "RBHdNO4rcrss",
        "colab_type": "code",
        "colab": {
          "base_uri": "https://localhost:8080/",
          "height": 313
        },
        "outputId": "69539085-b641-48f4-fca8-ec1c6971f274"
      },
      "source": [
        "school_census.iloc[0:5]"
      ],
      "execution_count": 68,
      "outputs": [
        {
          "output_type": "execute_result",
          "data": {
            "text/html": [
              "<div>\n",
              "<style scoped>\n",
              "    .dataframe tbody tr th:only-of-type {\n",
              "        vertical-align: middle;\n",
              "    }\n",
              "\n",
              "    .dataframe tbody tr th {\n",
              "        vertical-align: top;\n",
              "    }\n",
              "\n",
              "    .dataframe thead th {\n",
              "        text-align: right;\n",
              "    }\n",
              "</style>\n",
              "<table border=\"1\" class=\"dataframe\">\n",
              "  <thead>\n",
              "    <tr style=\"text-align: right;\">\n",
              "      <th></th>\n",
              "      <th>Country</th>\n",
              "      <th>Region</th>\n",
              "      <th>DataYear</th>\n",
              "      <th>ClassGrade</th>\n",
              "      <th>Gender</th>\n",
              "      <th>Ageyears</th>\n",
              "      <th>Handed</th>\n",
              "      <th>Height_cm</th>\n",
              "      <th>Footlength_cm</th>\n",
              "      <th>Armspan_cm</th>\n",
              "      <th>Languages_spoken</th>\n",
              "      <th>Travel_to_School</th>\n",
              "      <th>Travel_time_to_School</th>\n",
              "      <th>Reaction_time</th>\n",
              "      <th>Score_in_memory_game</th>\n",
              "      <th>Favourite_physical_activity</th>\n",
              "      <th>Importance_reducing_pollution</th>\n",
              "      <th>Importance_recycling_rubbish</th>\n",
              "      <th>Importance_conserving_water</th>\n",
              "      <th>Importance_saving_energy</th>\n",
              "      <th>Importance_owning_computer</th>\n",
              "      <th>Importance_Internet_access</th>\n",
              "      <th>Left_Footlength_cm</th>\n",
              "      <th>Longer_foot</th>\n",
              "      <th>Index_Fingerlength_mm</th>\n",
              "      <th>Ring_Fingerlength_mm</th>\n",
              "      <th>Longer_Finger_Lefthand</th>\n",
              "      <th>Birth_month</th>\n",
              "      <th>Favorite_Season</th>\n",
              "      <th>Allergies</th>\n",
              "      <th>Vegetarian</th>\n",
              "      <th>Favorite_Food</th>\n",
              "      <th>Beverage</th>\n",
              "      <th>Favorite_School_Subject</th>\n",
              "      <th>Sleep_Hours_Schoolnight</th>\n",
              "      <th>Sleep_Hours_Non_Schoolnight</th>\n",
              "      <th>Home_Occupants</th>\n",
              "      <th>Home_Internet_Access</th>\n",
              "      <th>Communication_With_Friends</th>\n",
              "      <th>Text_Messages_Sent_Yesterday</th>\n",
              "      <th>Text_Messages_Received_Yesterday</th>\n",
              "      <th>Hanging_Out_With_Friends_Hours</th>\n",
              "      <th>Talking_On_Phone_Hours</th>\n",
              "      <th>Doing_Homework_Hours</th>\n",
              "      <th>Doing_Things_With_Family_Hours</th>\n",
              "      <th>Outdoor_Activities_Hours</th>\n",
              "      <th>Video_Games_Hours</th>\n",
              "      <th>Social_Websites_Hours</th>\n",
              "      <th>Texting_Messaging_Hours</th>\n",
              "      <th>Computer_Use_Hours</th>\n",
              "      <th>Watching_TV_Hours</th>\n",
              "      <th>Paid_Work_Hours</th>\n",
              "      <th>Work_At_Home_Hours</th>\n",
              "      <th>Schoolwork_Pressure</th>\n",
              "      <th>Planned_Education_Level</th>\n",
              "      <th>Favorite_Music</th>\n",
              "      <th>Superpower</th>\n",
              "      <th>Preferred_Status</th>\n",
              "      <th>Role_Model_Type</th>\n",
              "      <th>Charity_Donation</th>\n",
              "    </tr>\n",
              "  </thead>\n",
              "  <tbody>\n",
              "    <tr>\n",
              "      <th>powderballot</th>\n",
              "      <td>USA</td>\n",
              "      <td>CA</td>\n",
              "      <td>2019</td>\n",
              "      <td>12</td>\n",
              "      <td>Female</td>\n",
              "      <td>17</td>\n",
              "      <td>Right-Handed</td>\n",
              "      <td>165</td>\n",
              "      <td>21</td>\n",
              "      <td>157</td>\n",
              "      <td>1</td>\n",
              "      <td>Car</td>\n",
              "      <td>6</td>\n",
              "      <td>0.638</td>\n",
              "      <td>51</td>\n",
              "      <td>Swimming</td>\n",
              "      <td>95</td>\n",
              "      <td>80</td>\n",
              "      <td>75.0</td>\n",
              "      <td>75</td>\n",
              "      <td>70.0</td>\n",
              "      <td>90</td>\n",
              "      <td>21</td>\n",
              "      <td>Same length</td>\n",
              "      <td>75</td>\n",
              "      <td>70</td>\n",
              "      <td>Index finger</td>\n",
              "      <td>April</td>\n",
              "      <td>Summer</td>\n",
              "      <td>No</td>\n",
              "      <td>No</td>\n",
              "      <td>Poultry</td>\n",
              "      <td>Water</td>\n",
              "      <td>Mathematics and statistics</td>\n",
              "      <td>6</td>\n",
              "      <td>10</td>\n",
              "      <td>4</td>\n",
              "      <td>Yes - broadband connection</td>\n",
              "      <td>Text messaging</td>\n",
              "      <td>100</td>\n",
              "      <td>100</td>\n",
              "      <td>5</td>\n",
              "      <td>0</td>\n",
              "      <td>13</td>\n",
              "      <td>5</td>\n",
              "      <td>0</td>\n",
              "      <td>0</td>\n",
              "      <td>10</td>\n",
              "      <td>20</td>\n",
              "      <td>5</td>\n",
              "      <td>0</td>\n",
              "      <td>16</td>\n",
              "      <td>0</td>\n",
              "      <td>A lot</td>\n",
              "      <td>Graduate degree</td>\n",
              "      <td>Pop</td>\n",
              "      <td>Fly</td>\n",
              "      <td>Happy</td>\n",
              "      <td>Community leader or elder</td>\n",
              "      <td>Environment</td>\n",
              "    </tr>\n",
              "    <tr>\n",
              "      <th>cacklewinter</th>\n",
              "      <td>USA</td>\n",
              "      <td>NJ</td>\n",
              "      <td>2019</td>\n",
              "      <td>11</td>\n",
              "      <td>Male</td>\n",
              "      <td>16</td>\n",
              "      <td>Right-Handed</td>\n",
              "      <td>182.9</td>\n",
              "      <td>11</td>\n",
              "      <td>185.4</td>\n",
              "      <td>1</td>\n",
              "      <td>Bus</td>\n",
              "      <td>25</td>\n",
              "      <td>1.2</td>\n",
              "      <td>2.27</td>\n",
              "      <td>Basketball</td>\n",
              "      <td>1000</td>\n",
              "      <td>1000</td>\n",
              "      <td>1000.0</td>\n",
              "      <td>1000</td>\n",
              "      <td>200.0</td>\n",
              "      <td>300</td>\n",
              "      <td>34</td>\n",
              "      <td>Same length</td>\n",
              "      <td>27</td>\n",
              "      <td>31</td>\n",
              "      <td>Ring finger</td>\n",
              "      <td>September</td>\n",
              "      <td>Summer</td>\n",
              "      <td>Yes</td>\n",
              "      <td>No</td>\n",
              "      <td>Meat</td>\n",
              "      <td>Milk</td>\n",
              "      <td>Physical education</td>\n",
              "      <td>8</td>\n",
              "      <td>8</td>\n",
              "      <td>3</td>\n",
              "      <td>Yes - other</td>\n",
              "      <td>Myspace, Facebook, other social networking sit...</td>\n",
              "      <td>500</td>\n",
              "      <td>500</td>\n",
              "      <td>0</td>\n",
              "      <td>1</td>\n",
              "      <td>0</td>\n",
              "      <td>5</td>\n",
              "      <td>8</td>\n",
              "      <td>4</td>\n",
              "      <td>6</td>\n",
              "      <td>3</td>\n",
              "      <td>0</td>\n",
              "      <td>3</td>\n",
              "      <td>0</td>\n",
              "      <td>2</td>\n",
              "      <td>Very little</td>\n",
              "      <td>Some college</td>\n",
              "      <td>Heavy metal</td>\n",
              "      <td>Fly</td>\n",
              "      <td>Happy</td>\n",
              "      <td>Sports person</td>\n",
              "      <td>Health</td>\n",
              "    </tr>\n",
              "    <tr>\n",
              "      <th>holddownbits</th>\n",
              "      <td>USA</td>\n",
              "      <td>OH</td>\n",
              "      <td>2019</td>\n",
              "      <td>7</td>\n",
              "      <td>Female</td>\n",
              "      <td>13</td>\n",
              "      <td>Right-Handed</td>\n",
              "      <td>160</td>\n",
              "      <td>21</td>\n",
              "      <td>165</td>\n",
              "      <td>1</td>\n",
              "      <td>Walk</td>\n",
              "      <td>15</td>\n",
              "      <td>0.725</td>\n",
              "      <td>50</td>\n",
              "      <td>Athletics</td>\n",
              "      <td>583</td>\n",
              "      <td>150</td>\n",
              "      <td>1000.0</td>\n",
              "      <td>583</td>\n",
              "      <td>96.0</td>\n",
              "      <td>332</td>\n",
              "      <td>23</td>\n",
              "      <td>Left foot</td>\n",
              "      <td>90</td>\n",
              "      <td>75</td>\n",
              "      <td>Index finger</td>\n",
              "      <td>January</td>\n",
              "      <td>Summer</td>\n",
              "      <td>No</td>\n",
              "      <td>No</td>\n",
              "      <td>Fruit</td>\n",
              "      <td>Soft drink (non-caffeinated)</td>\n",
              "      <td>Physical education</td>\n",
              "      <td>8</td>\n",
              "      <td>4</td>\n",
              "      <td>3</td>\n",
              "      <td>Yes - dial-up connection</td>\n",
              "      <td>In person</td>\n",
              "      <td>5</td>\n",
              "      <td>9</td>\n",
              "      <td>25</td>\n",
              "      <td>20</td>\n",
              "      <td>1</td>\n",
              "      <td>2</td>\n",
              "      <td>20</td>\n",
              "      <td>30</td>\n",
              "      <td>20</td>\n",
              "      <td>2</td>\n",
              "      <td>8</td>\n",
              "      <td>30</td>\n",
              "      <td>0</td>\n",
              "      <td>10</td>\n",
              "      <td>Some</td>\n",
              "      <td>Graduate degree</td>\n",
              "      <td>Other</td>\n",
              "      <td>Telepathy</td>\n",
              "      <td>Healthy</td>\n",
              "      <td>Actor</td>\n",
              "      <td>Health</td>\n",
              "    </tr>\n",
              "    <tr>\n",
              "      <th>swapsconcert</th>\n",
              "      <td>USA</td>\n",
              "      <td>NY</td>\n",
              "      <td>2019</td>\n",
              "      <td>10</td>\n",
              "      <td>Female</td>\n",
              "      <td>16</td>\n",
              "      <td>Ambidextrous</td>\n",
              "      <td>65</td>\n",
              "      <td>21</td>\n",
              "      <td>156</td>\n",
              "      <td>1</td>\n",
              "      <td>Walk</td>\n",
              "      <td>15</td>\n",
              "      <td>.489</td>\n",
              "      <td>60</td>\n",
              "      <td>Gymnastics</td>\n",
              "      <td>200</td>\n",
              "      <td>400</td>\n",
              "      <td>100.0</td>\n",
              "      <td>100</td>\n",
              "      <td>500.0</td>\n",
              "      <td>1000</td>\n",
              "      <td>20.5</td>\n",
              "      <td>Right foot</td>\n",
              "      <td>6.5</td>\n",
              "      <td>6</td>\n",
              "      <td>Index finger</td>\n",
              "      <td>March</td>\n",
              "      <td>Spring</td>\n",
              "      <td>Yes</td>\n",
              "      <td>No</td>\n",
              "      <td>Pizza/Pasta</td>\n",
              "      <td>Juice</td>\n",
              "      <td>Science</td>\n",
              "      <td>6</td>\n",
              "      <td>8</td>\n",
              "      <td>4</td>\n",
              "      <td>NaN</td>\n",
              "      <td>Text messaging</td>\n",
              "      <td>150</td>\n",
              "      <td>100</td>\n",
              "      <td>34</td>\n",
              "      <td>2</td>\n",
              "      <td>14</td>\n",
              "      <td>1</td>\n",
              "      <td>3</td>\n",
              "      <td>9</td>\n",
              "      <td>10</td>\n",
              "      <td>10</td>\n",
              "      <td>10</td>\n",
              "      <td>5</td>\n",
              "      <td>3</td>\n",
              "      <td>1</td>\n",
              "      <td>Some</td>\n",
              "      <td>Graduate degree</td>\n",
              "      <td>Classical</td>\n",
              "      <td>Telepathy</td>\n",
              "      <td>Happy</td>\n",
              "      <td>Business person</td>\n",
              "      <td>Wildlife, animals</td>\n",
              "    </tr>\n",
              "    <tr>\n",
              "      <th>hatredlaptop</th>\n",
              "      <td>USA</td>\n",
              "      <td>IN</td>\n",
              "      <td>2019</td>\n",
              "      <td>12</td>\n",
              "      <td>Male</td>\n",
              "      <td>17</td>\n",
              "      <td>Right-Handed</td>\n",
              "      <td>172.7</td>\n",
              "      <td>24</td>\n",
              "      <td>174</td>\n",
              "      <td>2</td>\n",
              "      <td>Car</td>\n",
              "      <td>10</td>\n",
              "      <td>.497</td>\n",
              "      <td>48</td>\n",
              "      <td>Golf</td>\n",
              "      <td>750</td>\n",
              "      <td>800</td>\n",
              "      <td>100.0</td>\n",
              "      <td>900</td>\n",
              "      <td>1000.0</td>\n",
              "      <td>1000</td>\n",
              "      <td>24</td>\n",
              "      <td>Same length</td>\n",
              "      <td>62</td>\n",
              "      <td>64</td>\n",
              "      <td>Ring finger</td>\n",
              "      <td>January</td>\n",
              "      <td>Spring</td>\n",
              "      <td>Yes</td>\n",
              "      <td>No</td>\n",
              "      <td>Meat</td>\n",
              "      <td>Tea</td>\n",
              "      <td>Mathematics and statistics</td>\n",
              "      <td>7.5</td>\n",
              "      <td>9</td>\n",
              "      <td>4</td>\n",
              "      <td>Yes - broadband connection</td>\n",
              "      <td>In person</td>\n",
              "      <td>6</td>\n",
              "      <td>5</td>\n",
              "      <td>5</td>\n",
              "      <td>1</td>\n",
              "      <td>8</td>\n",
              "      <td>10</td>\n",
              "      <td>28</td>\n",
              "      <td>0</td>\n",
              "      <td>4</td>\n",
              "      <td>1</td>\n",
              "      <td>3</td>\n",
              "      <td>8</td>\n",
              "      <td>8</td>\n",
              "      <td>0</td>\n",
              "      <td>A lot</td>\n",
              "      <td>Graduate degree</td>\n",
              "      <td>Rap/Hip hop</td>\n",
              "      <td>Super strength</td>\n",
              "      <td>Rich</td>\n",
              "      <td>Sports person</td>\n",
              "      <td>Health</td>\n",
              "    </tr>\n",
              "  </tbody>\n",
              "</table>\n",
              "</div>"
            ],
            "text/plain": [
              "             Country Region  ...            Role_Model_Type   Charity_Donation\n",
              "powderballot     USA     CA  ...  Community leader or elder        Environment\n",
              "cacklewinter     USA     NJ  ...              Sports person             Health\n",
              "holddownbits     USA     OH  ...                      Actor             Health\n",
              "swapsconcert     USA     NY  ...            Business person  Wildlife, animals\n",
              "hatredlaptop     USA     IN  ...              Sports person             Health\n",
              "\n",
              "[5 rows x 60 columns]"
            ]
          },
          "metadata": {
            "tags": []
          },
          "execution_count": 68
        }
      ]
    },
    {
      "cell_type": "code",
      "metadata": {
        "id": "wLt9qNHZdoZ0",
        "colab_type": "code",
        "colab": {}
      },
      "source": [
        "school_census = school_census[school_census['Height_cm'].str.isnumeric().astype(bool) & ~school_census['Height_cm'].isnull()]\n"
      ],
      "execution_count": 69,
      "outputs": []
    },
    {
      "cell_type": "code",
      "metadata": {
        "id": "hQKCNZVhmHeo",
        "colab_type": "code",
        "colab": {
          "base_uri": "https://localhost:8080/",
          "height": 129
        },
        "outputId": "bd6a1d5e-bd3e-4dec-e273-21d07b594cb0"
      },
      "source": [
        "school_census['Height_cm'] = school_census['Height_cm'].astype(float)"
      ],
      "execution_count": 70,
      "outputs": [
        {
          "output_type": "stream",
          "text": [
            "/usr/local/lib/python3.6/dist-packages/ipykernel_launcher.py:1: SettingWithCopyWarning: \n",
            "A value is trying to be set on a copy of a slice from a DataFrame.\n",
            "Try using .loc[row_indexer,col_indexer] = value instead\n",
            "\n",
            "See the caveats in the documentation: https://pandas.pydata.org/pandas-docs/stable/user_guide/indexing.html#returning-a-view-versus-a-copy\n",
            "  \"\"\"Entry point for launching an IPython kernel.\n"
          ],
          "name": "stderr"
        }
      ]
    },
    {
      "cell_type": "code",
      "metadata": {
        "id": "4EhtB-KWeKmm",
        "colab_type": "code",
        "colab": {
          "base_uri": "https://localhost:8080/",
          "height": 284
        },
        "outputId": "af76783f-611a-4f6c-882c-9e82050612cf"
      },
      "source": [
        "school_census['Height_cm'].hist(bins=100)"
      ],
      "execution_count": 71,
      "outputs": [
        {
          "output_type": "execute_result",
          "data": {
            "text/plain": [
              "<matplotlib.axes._subplots.AxesSubplot at 0x7fe5392a4860>"
            ]
          },
          "metadata": {
            "tags": []
          },
          "execution_count": 71
        },
        {
          "output_type": "display_data",
          "data": {
            "image/png": "[encoded data removed]",
            "text/plain": [
              "<Figure size 432x288 with 1 Axes>"
            ]
          },
          "metadata": {
            "tags": [],
            "needs_background": "light"
          }
        }
      ]
    }
  ]
}